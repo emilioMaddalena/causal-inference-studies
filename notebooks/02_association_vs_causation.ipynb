{
 "cells": [
  {
   "cell_type": "markdown",
   "id": "f8241ea0",
   "metadata": {},
   "source": [
    "# Association vs causation"
   ]
  },
  {
   "cell_type": "markdown",
   "id": "209618a3",
   "metadata": {},
   "source": [
    "---\n",
    "\n",
    "### **Bit 1**: \n",
    "Statistical association (including correlation) does not imply causation. That's because a multitude of other correlation inducing scenarios exist apart from causation.\n",
    "\n",
    "---"
   ]
  },
  {
   "cell_type": "markdown",
   "id": "6ac7fc6e",
   "metadata": {},
   "source": [
    "Say $X1$ is the annual chocolate consumption (in kg/capita) of a country. $X2$ is the number of Nobel Prize Laureates (per 10^7 inhabitants).\n",
    "\n",
    "If you compute the **correlation** between $X1$ and $X2$ you could arrive at numbers as high as $R=0.69$ and p-values as low as $p=0.0004$.\n",
    "\n",
    "This suggests a strong (and statistically significant) association between chocolate consumption and cognitive function."
   ]
  },
  {
   "cell_type": "code",
   "execution_count": null,
   "id": "59c78948",
   "metadata": {},
   "outputs": [],
   "source": []
  },
  {
   "cell_type": "markdown",
   "id": "e1081532",
   "metadata": {},
   "source": [
    "Although it's amusing to think chocolate will help you get that smarter, it's also hard to believe that is indeed the case.\n",
    "\n",
    "If you think about it harder though, which of the following conclusions should one draw from such analysis?\n",
    "\n"
   ]
  },
  {
   "cell_type": "markdown",
   "id": "81cbd70c",
   "metadata": {},
   "source": [
    "References:\n",
    "\n",
    "Messerli, Franz H. \"Chocolate consumption, cognitive function, and Nobel laureates.\" N Engl J Med 367.16 (2012): 1562-4.\n",
    "\n",
    "Prinz, Aloys Leo. \"Chocolate consumption and noble laureates.\" Social Sciences & Humanities Open 2.1 (2020): 100082.\n",
    "\n",
    "https://www.swissinfo.ch/eng/sci-tech/does-chocolate-help-you-win-a-nobel-prize/33704568\n",
    "\n",
    "Forré, Patrick, and Joris M. Mooij. \"A Mathematical Introduction to Causality.\" Lecture Notes (2024)."
   ]
  },
  {
   "cell_type": "markdown",
   "id": "0cc29906",
   "metadata": {},
   "source": []
  }
 ],
 "metadata": {
  "kernelspec": {
   "display_name": "Python 3",
   "language": "python",
   "name": "python3"
  },
  "language_info": {
   "name": "python",
   "version": "3.13.0"
  }
 },
 "nbformat": 4,
 "nbformat_minor": 5
}
