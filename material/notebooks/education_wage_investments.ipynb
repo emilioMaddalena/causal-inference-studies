{
 "cells": [
  {
   "cell_type": "markdown",
   "id": "0421c8de",
   "metadata": {},
   "source": [
    "# Collider Bias Example: Education, Wage, and Investments\n",
    "\n",
    "This notebook shows the effect of collider bias in causal inference. \n",
    "\n",
    "**Variables:**\n",
    "- Education (E): Years of education (continuous)\n",
    "- Wage (W): Annual wage (continuous)\n",
    "- Investments (I): Amount invested (continuous)\n",
    "\n",
    "**Causal structure:**\n",
    "- Education increases Wage (E → W)\n",
    "- Both Education and Wage increase Investments (E → I ← W)"
   ]
  },
  {
   "cell_type": "code",
   "execution_count": null,
   "id": "c5d10e4c",
   "metadata": {},
   "outputs": [],
   "source": [
    "import warnings\n",
    "\n",
    "import matplotlib.pyplot as plt\n",
    "import networkx as nx\n",
    "import numpy as np\n",
    "import pandas as pd\n",
    "import pymc as pm\n",
    "import seaborn as sns\n",
    "\n",
    "np.random.seed(123)\n",
    "warnings.filterwarnings('ignore')\n",
    "plt.style.use('seaborn-v0_8-whitegrid')\n",
    "sns.set_context(\"talk\")"
   ]
  },
  {
   "cell_type": "markdown",
   "id": "8d56a133",
   "metadata": {},
   "source": [
    "## 1. Define the true causal mechanisms"
   ]
  },
  {
   "cell_type": "code",
   "execution_count": null,
   "id": "07f420f8",
   "metadata": {},
   "outputs": [],
   "source": [
    "# The DAG\n",
    "\n",
    "EDU = 'education'\n",
    "WAGE = 'wage'\n",
    "INV = 'invest.'\n",
    "nodes = [EDU, WAGE, INV]\n",
    "edges = [(EDU, WAGE), (EDU, INV), (WAGE, INV)]\n",
    "\n",
    "G = nx.DiGraph()\n",
    "G.add_nodes_from(nodes)\n",
    "G.add_edges_from(edges)\n",
    "\n",
    "# Position nodes in a diamond layout\n",
    "pos = {EDU: (0, 0), WAGE: (1, 0), INV: (0.5, 0.5),}\n",
    "node_colors = {EDU: 'lightblue', WAGE: 'lightblue', INV: '#b3de69'}\n",
    "node_color_list = [node_colors[node] for node in G.nodes()]\n",
    "\n",
    "basic_settings = {\n",
    "    \"node_color\": node_color_list, \"node_size\": 5000,\n",
    "    \"font_size\": 16,\n",
    "    \"linewidths\": 1.5,\n",
    "    \"arrowsize\": 25,\n",
    "    \"width\": 3,\n",
    "    \"edge_color\": 'gray',\n",
    "    \"arrows\": True,\n",
    "}\n",
    "\n",
    "plt.figure(figsize=(8, 6))\n",
    "nx.draw(G, pos, with_labels=True, **basic_settings)"
   ]
  },
  {
   "cell_type": "code",
   "execution_count": null,
   "id": "a83a59e1",
   "metadata": {},
   "outputs": [],
   "source": [
    "# The equations\n",
    "\n",
    "TRUE_CAUSAL_EFFECT = 20.0\n",
    "\n",
    "def wages_ground_truth(education):\n",
    "    return 10000 + TRUE_CAUSAL_EFFECT * education + np.random.normal(0, 80, education.shape)\n",
    "\n",
    "def investments_ground_truth(education, wage):\n",
    "    return 1000 + 50 * education + 2 * wage + np.random.normal(0, 80, education.shape)"
   ]
  },
  {
   "cell_type": "markdown",
   "id": "d0cbf3ab",
   "metadata": {},
   "source": [
    "## 2. Generate data"
   ]
  },
  {
   "cell_type": "code",
   "execution_count": null,
   "id": "96c755a5",
   "metadata": {},
   "outputs": [],
   "source": [
    "n_samples = 200\n",
    "\n",
    "education = np.random.normal(loc=10, scale=2, size=n_samples)\n",
    "wages = wages_ground_truth(education)\n",
    "investments = investments_ground_truth(education, wages)\n",
    "\n",
    "data = pd.DataFrame({\n",
    "    'education': education,\n",
    "    'wage': wages,\n",
    "    'investments': investments\n",
    "})"
   ]
  },
  {
   "cell_type": "markdown",
   "id": "bf54a894",
   "metadata": {},
   "source": [
    "## 3. Train regression Models\n",
    "\n",
    "We'll fit two models:\n",
    "\n",
    "- Wage ~ Education (does not condition on Investments)\n",
    "- Wage ~ Education + Investments (conditions on the collider)"
   ]
  },
  {
   "cell_type": "code",
   "execution_count": null,
   "id": "e74d5799",
   "metadata": {},
   "outputs": [],
   "source": [
    "# Standardize variables for MCMC\n",
    "std_data = data.copy()\n",
    "std_data['education_std'] = (data['education'] - data['education'].mean()) / data['education'].std()\n",
    "std_data['wage_std'] = (data['wage'] - data['wage'].mean()) / data['wage'].std()\n",
    "std_data['investments_std'] = (data['investments'] - data['investments'].mean()) / data['investments'].std()\n",
    "\n",
    "# Wage ~ Education \n",
    "with pm.Model() as model_unbiased:\n",
    "    alpha = pm.Normal('alpha', mu=0, sigma=10)\n",
    "    beta_edu = pm.Normal('beta_edu', mu=0, sigma=10)\n",
    "    sigma = pm.HalfNormal('sigma', sigma=5)\n",
    "    mu = alpha + beta_edu * std_data['education_std']\n",
    "    y = pm.Normal('y', mu=mu, sigma=sigma, observed=std_data['wage_std'])\n",
    "    trace_unbiased = pm.sample(3000, tune=1000, return_inferencedata=True)\n",
    "\n",
    "# Wage ~ Education + Investments\n",
    "with pm.Model() as model_collider:\n",
    "    alpha = pm.Normal('alpha', mu=0, sigma=10)\n",
    "    beta_edu = pm.Normal('beta_edu', mu=0, sigma=10)\n",
    "    beta_inv = pm.Normal('beta_inv', mu=0, sigma=10)\n",
    "    sigma = pm.HalfNormal('sigma', sigma=5)\n",
    "    mu = alpha + beta_edu * std_data['education_std'] + beta_inv * std_data['investments_std']\n",
    "    y = pm.Normal('y', mu=mu, sigma=sigma, observed=std_data['wage_std'])\n",
    "    trace_collider = pm.sample(3000, tune=1000, return_inferencedata=True)"
   ]
  },
  {
   "cell_type": "markdown",
   "id": "5672d226",
   "metadata": {},
   "source": [
    "## 4. Compare Results\n",
    "\n",
    "Let's compare the posterior distributions of the education effect from both models and see the collider bias."
   ]
  },
  {
   "cell_type": "code",
   "execution_count": null,
   "id": "cf699a29",
   "metadata": {},
   "outputs": [],
   "source": [
    "# Extract posterior samples\n",
    "unbiased_effect = trace_unbiased.posterior['beta_edu'].values.flatten()\n",
    "collider_effect = trace_collider.posterior['beta_edu'].values.flatten()\n",
    "\n",
    "# Rescale to original units\n",
    "std_wage = data['wage'].std()\n",
    "std_edu = data['education'].std()\n",
    "unbiased_effect_rescaled = unbiased_effect * std_wage / std_edu\n",
    "collider_effect_rescaled = collider_effect * std_wage / std_edu\n",
    "\n",
    "plt.figure(figsize=(12, 6))\n",
    "sns.kdeplot(unbiased_effect_rescaled, fill=True, label='Ignoring Investment', alpha=0.7)\n",
    "sns.kdeplot(collider_effect_rescaled, fill=True, label='Including Investment', alpha=0.7)\n",
    "plt.axvline(x=TRUE_CAUSAL_EFFECT, color='red', linestyle='--', label='True Causal Effect')\n",
    "plt.title('Posterior distributions of the Education Coefficient')\n",
    "plt.xlabel('Value')\n",
    "plt.ylabel('Density')\n",
    "plt.legend()\n",
    "plt.show()\n",
    "\n",
    "print(\"Unbiased model effect estimate: {:.2f} (95% CI: [{:.2f}, {:.2f}])\".format(\n",
    "    unbiased_effect_rescaled.mean(),\n",
    "    np.percentile(unbiased_effect_rescaled, 2.5),\n",
    "    np.percentile(unbiased_effect_rescaled, 97.5)\n",
    "))\n",
    "\n",
    "print(\"Collider model effect estimate: {:.2f} (95% CI: [{:.2f}, {:.2f}])\".format(\n",
    "    collider_effect_rescaled.mean(),\n",
    "    np.percentile(collider_effect_rescaled, 2.5),\n",
    "    np.percentile(collider_effect_rescaled, 97.5)\n",
    "))\n",
    "\n",
    "print(\"True causal effect: {:.2f}\".format(TRUE_CAUSAL_EFFECT))"
   ]
  },
  {
   "cell_type": "code",
   "execution_count": null,
   "id": "945eab6e",
   "metadata": {},
   "outputs": [],
   "source": []
  }
 ],
 "metadata": {
  "kernelspec": {
   "display_name": "causal-inference-studies (3.12.7)",
   "language": "python",
   "name": "python3"
  },
  "language_info": {
   "codemirror_mode": {
    "name": "ipython",
    "version": 3
   },
   "file_extension": ".py",
   "mimetype": "text/x-python",
   "name": "python",
   "nbconvert_exporter": "python",
   "pygments_lexer": "ipython3",
   "version": "3.12.7"
  }
 },
 "nbformat": 4,
 "nbformat_minor": 5
}
